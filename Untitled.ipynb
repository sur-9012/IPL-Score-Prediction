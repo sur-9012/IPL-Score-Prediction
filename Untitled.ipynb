{
 "cells": [
  {
   "cell_type": "code",
   "execution_count": 85,
   "id": "8fda74fa",
   "metadata": {},
   "outputs": [],
   "source": [
    "import pandas as pd\n",
    "import numpy as np\n",
    "import matplotlib.pyplot as plt\n",
    "import seaborn as sns\n",
    "from sklearn import preprocessing\n",
    "import keras \n",
    "import tensorflow as tf"
   ]
  },
  {
   "cell_type": "code",
   "execution_count": 86,
   "id": "e0705500",
   "metadata": {},
   "outputs": [
    {
     "data": {
      "text/html": [
       "<div>\n",
       "<style scoped>\n",
       "    .dataframe tbody tr th:only-of-type {\n",
       "        vertical-align: middle;\n",
       "    }\n",
       "\n",
       "    .dataframe tbody tr th {\n",
       "        vertical-align: top;\n",
       "    }\n",
       "\n",
       "    .dataframe thead th {\n",
       "        text-align: right;\n",
       "    }\n",
       "</style>\n",
       "<table border=\"1\" class=\"dataframe\">\n",
       "  <thead>\n",
       "    <tr style=\"text-align: right;\">\n",
       "      <th></th>\n",
       "      <th>mid</th>\n",
       "      <th>date</th>\n",
       "      <th>venue</th>\n",
       "      <th>bat_team</th>\n",
       "      <th>bowl_team</th>\n",
       "      <th>batsman</th>\n",
       "      <th>bowler</th>\n",
       "      <th>runs</th>\n",
       "      <th>wickets</th>\n",
       "      <th>overs</th>\n",
       "      <th>runs_last_5</th>\n",
       "      <th>wickets_last_5</th>\n",
       "      <th>striker</th>\n",
       "      <th>non-striker</th>\n",
       "      <th>total</th>\n",
       "    </tr>\n",
       "  </thead>\n",
       "  <tbody>\n",
       "    <tr>\n",
       "      <th>0</th>\n",
       "      <td>1</td>\n",
       "      <td>2008-04-18</td>\n",
       "      <td>M Chinnaswamy Stadium</td>\n",
       "      <td>Kolkata Knight Riders</td>\n",
       "      <td>Royal Challengers Bangalore</td>\n",
       "      <td>SC Ganguly</td>\n",
       "      <td>P Kumar</td>\n",
       "      <td>1</td>\n",
       "      <td>0</td>\n",
       "      <td>0.1</td>\n",
       "      <td>1</td>\n",
       "      <td>0</td>\n",
       "      <td>0</td>\n",
       "      <td>0</td>\n",
       "      <td>222</td>\n",
       "    </tr>\n",
       "    <tr>\n",
       "      <th>1</th>\n",
       "      <td>1</td>\n",
       "      <td>2008-04-18</td>\n",
       "      <td>M Chinnaswamy Stadium</td>\n",
       "      <td>Kolkata Knight Riders</td>\n",
       "      <td>Royal Challengers Bangalore</td>\n",
       "      <td>BB McCullum</td>\n",
       "      <td>P Kumar</td>\n",
       "      <td>1</td>\n",
       "      <td>0</td>\n",
       "      <td>0.2</td>\n",
       "      <td>1</td>\n",
       "      <td>0</td>\n",
       "      <td>0</td>\n",
       "      <td>0</td>\n",
       "      <td>222</td>\n",
       "    </tr>\n",
       "    <tr>\n",
       "      <th>2</th>\n",
       "      <td>1</td>\n",
       "      <td>2008-04-18</td>\n",
       "      <td>M Chinnaswamy Stadium</td>\n",
       "      <td>Kolkata Knight Riders</td>\n",
       "      <td>Royal Challengers Bangalore</td>\n",
       "      <td>BB McCullum</td>\n",
       "      <td>P Kumar</td>\n",
       "      <td>2</td>\n",
       "      <td>0</td>\n",
       "      <td>0.2</td>\n",
       "      <td>2</td>\n",
       "      <td>0</td>\n",
       "      <td>0</td>\n",
       "      <td>0</td>\n",
       "      <td>222</td>\n",
       "    </tr>\n",
       "    <tr>\n",
       "      <th>3</th>\n",
       "      <td>1</td>\n",
       "      <td>2008-04-18</td>\n",
       "      <td>M Chinnaswamy Stadium</td>\n",
       "      <td>Kolkata Knight Riders</td>\n",
       "      <td>Royal Challengers Bangalore</td>\n",
       "      <td>BB McCullum</td>\n",
       "      <td>P Kumar</td>\n",
       "      <td>2</td>\n",
       "      <td>0</td>\n",
       "      <td>0.3</td>\n",
       "      <td>2</td>\n",
       "      <td>0</td>\n",
       "      <td>0</td>\n",
       "      <td>0</td>\n",
       "      <td>222</td>\n",
       "    </tr>\n",
       "    <tr>\n",
       "      <th>4</th>\n",
       "      <td>1</td>\n",
       "      <td>2008-04-18</td>\n",
       "      <td>M Chinnaswamy Stadium</td>\n",
       "      <td>Kolkata Knight Riders</td>\n",
       "      <td>Royal Challengers Bangalore</td>\n",
       "      <td>BB McCullum</td>\n",
       "      <td>P Kumar</td>\n",
       "      <td>2</td>\n",
       "      <td>0</td>\n",
       "      <td>0.4</td>\n",
       "      <td>2</td>\n",
       "      <td>0</td>\n",
       "      <td>0</td>\n",
       "      <td>0</td>\n",
       "      <td>222</td>\n",
       "    </tr>\n",
       "  </tbody>\n",
       "</table>\n",
       "</div>"
      ],
      "text/plain": [
       "   mid        date                  venue               bat_team  \\\n",
       "0    1  2008-04-18  M Chinnaswamy Stadium  Kolkata Knight Riders   \n",
       "1    1  2008-04-18  M Chinnaswamy Stadium  Kolkata Knight Riders   \n",
       "2    1  2008-04-18  M Chinnaswamy Stadium  Kolkata Knight Riders   \n",
       "3    1  2008-04-18  M Chinnaswamy Stadium  Kolkata Knight Riders   \n",
       "4    1  2008-04-18  M Chinnaswamy Stadium  Kolkata Knight Riders   \n",
       "\n",
       "                     bowl_team      batsman   bowler  runs  wickets  overs  \\\n",
       "0  Royal Challengers Bangalore   SC Ganguly  P Kumar     1        0    0.1   \n",
       "1  Royal Challengers Bangalore  BB McCullum  P Kumar     1        0    0.2   \n",
       "2  Royal Challengers Bangalore  BB McCullum  P Kumar     2        0    0.2   \n",
       "3  Royal Challengers Bangalore  BB McCullum  P Kumar     2        0    0.3   \n",
       "4  Royal Challengers Bangalore  BB McCullum  P Kumar     2        0    0.4   \n",
       "\n",
       "   runs_last_5  wickets_last_5  striker  non-striker  total  \n",
       "0            1               0        0            0    222  \n",
       "1            1               0        0            0    222  \n",
       "2            2               0        0            0    222  \n",
       "3            2               0        0            0    222  \n",
       "4            2               0        0            0    222  "
      ]
     },
     "execution_count": 86,
     "metadata": {},
     "output_type": "execute_result"
    }
   ],
   "source": [
    "ipl=pd.read_csv(\"D:\\ml_lab\\ipl_data.csv\")\n",
    "ipl.head()"
   ]
  },
  {
   "cell_type": "code",
   "execution_count": 87,
   "id": "206f32a7",
   "metadata": {},
   "outputs": [],
   "source": [
    "df=ipl.drop(['mid','date','runs','wickets','overs','runs_last_5','wickets_last_5','striker','non-striker'],axis=1)"
   ]
  },
  {
   "cell_type": "code",
   "execution_count": 88,
   "id": "a5a6766f",
   "metadata": {},
   "outputs": [],
   "source": [
    "x=df.drop(['total'],axis=1)\n",
    "y=df['total']"
   ]
  },
  {
   "cell_type": "code",
   "execution_count": 89,
   "id": "4beb7068",
   "metadata": {},
   "outputs": [],
   "source": [
    "from sklearn.preprocessing import LabelEncoder"
   ]
  },
  {
   "cell_type": "code",
   "execution_count": 90,
   "id": "4a9368df",
   "metadata": {},
   "outputs": [
    {
     "name": "stdout",
     "output_type": "stream",
     "text": [
      "                                           venue               bat_team  \\\n",
      "0                          M Chinnaswamy Stadium  Kolkata Knight Riders   \n",
      "1                          M Chinnaswamy Stadium  Kolkata Knight Riders   \n",
      "2                          M Chinnaswamy Stadium  Kolkata Knight Riders   \n",
      "3                          M Chinnaswamy Stadium  Kolkata Knight Riders   \n",
      "4                          M Chinnaswamy Stadium  Kolkata Knight Riders   \n",
      "...                                          ...                    ...   \n",
      "76009  Rajiv Gandhi International Stadium, Uppal         Mumbai Indians   \n",
      "76010  Rajiv Gandhi International Stadium, Uppal         Mumbai Indians   \n",
      "76011  Rajiv Gandhi International Stadium, Uppal         Mumbai Indians   \n",
      "76012  Rajiv Gandhi International Stadium, Uppal         Mumbai Indians   \n",
      "76013  Rajiv Gandhi International Stadium, Uppal         Mumbai Indians   \n",
      "\n",
      "                         bowl_team      batsman        bowler  \n",
      "0      Royal Challengers Bangalore   SC Ganguly       P Kumar  \n",
      "1      Royal Challengers Bangalore  BB McCullum       P Kumar  \n",
      "2      Royal Challengers Bangalore  BB McCullum       P Kumar  \n",
      "3      Royal Challengers Bangalore  BB McCullum       P Kumar  \n",
      "4      Royal Challengers Bangalore  BB McCullum       P Kumar  \n",
      "...                            ...          ...           ...  \n",
      "76009       Rising Pune Supergiant    KH Pandya  DT Christian  \n",
      "76010       Rising Pune Supergiant    KH Pandya  DT Christian  \n",
      "76011       Rising Pune Supergiant    KH Pandya  DT Christian  \n",
      "76012       Rising Pune Supergiant   MG Johnson  DT Christian  \n",
      "76013       Rising Pune Supergiant    KH Pandya  DT Christian  \n",
      "\n",
      "[76014 rows x 5 columns]\n"
     ]
    }
   ],
   "source": [
    "print(x)"
   ]
  },
  {
   "cell_type": "code",
   "execution_count": 91,
   "id": "06555c7a",
   "metadata": {},
   "outputs": [],
   "source": [
    "venue_label=LabelEncoder()\n",
    "bat_team_label=LabelEncoder()\n",
    "bowl_team_label=LabelEncoder()\n",
    "batsmen_label=LabelEncoder()\n",
    "bowler_label=LabelEncoder()"
   ]
  },
  {
   "cell_type": "code",
   "execution_count": 92,
   "id": "120b5830",
   "metadata": {},
   "outputs": [],
   "source": [
    "x['venue']=venue_label.fit_transform(x['venue'])\n",
    "x['bat_team']=bat_team_label.fit_transform(x['bat_team'])\n",
    "x['bowl_team']=bowl_team_label.fit_transform(x['bowl_team'])\n",
    "x['batsman']=batsmen_label.fit_transform(x['batsman'])\n",
    "x['bowler']=bowler_label.fit_transform(x['bowler'])"
   ]
  },
  {
   "cell_type": "code",
   "execution_count": 93,
   "id": "87975758",
   "metadata": {},
   "outputs": [],
   "source": [
    "from sklearn.model_selection import train_test_split"
   ]
  },
  {
   "cell_type": "code",
   "execution_count": 94,
   "id": "661ac5cc",
   "metadata": {},
   "outputs": [],
   "source": [
    "x_train,x_test,y_train,y_test=train_test_split(x,y,test_size=0.3,random_state=42)"
   ]
  },
  {
   "cell_type": "code",
   "execution_count": 95,
   "id": "aceb3dd7",
   "metadata": {},
   "outputs": [],
   "source": [
    "from sklearn.preprocessing import MinMaxScaler"
   ]
  },
  {
   "cell_type": "code",
   "execution_count": 96,
   "id": "c58dec4e",
   "metadata": {},
   "outputs": [],
   "source": [
    "scaler=MinMaxScaler(feature_range=(0, 1))\n",
    "scaler.fit(x)\n",
    "X_scaled = scaler.transform(x)\n",
    "x_train_scaled=scaler.fit_transform(x_train)\n",
    "x_test_scaled=scaler.transform(x_test)"
   ]
  },
  {
   "cell_type": "code",
   "execution_count": 97,
   "id": "5915f1ba",
   "metadata": {},
   "outputs": [],
   "source": [
    "# Define the neural network model\n",
    "model = keras.Sequential([\n",
    "\tkeras.layers.Input( shape=(x_train_scaled.shape[1],)), # Input layer\n",
    "\tkeras.layers.Dense(512, activation='relu'), # Hidden layer with 512 units and ReLU activation\n",
    "\tkeras.layers.Dense(216, activation='relu'), # Hidden layer with 216 units and ReLU activation\n",
    "\tkeras.layers.Dense(1, activation='linear') # Output layer with linear activation for regression\n",
    "])\n",
    "\n",
    "# Compile the model with Huber loss\n",
    "huber_loss = tf.keras.losses.Huber(delta=1.0) # You can adjust the 'delta' parameter as needed\n",
    "model.compile(optimizer='adam', loss=huber_loss) # Use Huber loss for regression\n"
   ]
  },
  {
   "cell_type": "code",
   "execution_count": 98,
   "id": "f432b6ab",
   "metadata": {},
   "outputs": [
    {
     "name": "stdout",
     "output_type": "stream",
     "text": [
      "Epoch 1/50\n",
      "832/832 [==============================] - 5s 4ms/step - loss: 32.1764 - val_loss: 22.0685\n",
      "Epoch 2/50\n",
      "832/832 [==============================] - 3s 4ms/step - loss: 22.3334 - val_loss: 22.1036\n",
      "Epoch 3/50\n",
      "832/832 [==============================] - 4s 4ms/step - loss: 22.2592 - val_loss: 21.9402\n",
      "Epoch 4/50\n",
      "832/832 [==============================] - 4s 4ms/step - loss: 22.2298 - val_loss: 22.2716\n",
      "Epoch 5/50\n",
      "832/832 [==============================] - 4s 4ms/step - loss: 22.1457 - val_loss: 21.8406\n",
      "Epoch 6/50\n",
      "832/832 [==============================] - 3s 3ms/step - loss: 22.1442 - val_loss: 22.0557\n",
      "Epoch 7/50\n",
      "832/832 [==============================] - 3s 4ms/step - loss: 22.1176 - val_loss: 21.8349\n",
      "Epoch 8/50\n",
      "832/832 [==============================] - 5s 6ms/step - loss: 22.0857 - val_loss: 21.9142\n",
      "Epoch 9/50\n",
      "832/832 [==============================] - 4s 5ms/step - loss: 22.1048 - val_loss: 21.7531\n",
      "Epoch 10/50\n",
      "832/832 [==============================] - 3s 4ms/step - loss: 22.0886 - val_loss: 21.7864\n",
      "Epoch 11/50\n",
      "832/832 [==============================] - 3s 4ms/step - loss: 22.0904 - val_loss: 22.1483\n",
      "Epoch 12/50\n",
      "832/832 [==============================] - 4s 5ms/step - loss: 22.0490 - val_loss: 22.1836\n",
      "Epoch 13/50\n",
      "832/832 [==============================] - 3s 4ms/step - loss: 22.0648 - val_loss: 21.8569\n",
      "Epoch 14/50\n",
      "832/832 [==============================] - 4s 4ms/step - loss: 22.0221 - val_loss: 21.7510\n",
      "Epoch 15/50\n",
      "832/832 [==============================] - 3s 4ms/step - loss: 22.0319 - val_loss: 21.7261\n",
      "Epoch 16/50\n",
      "832/832 [==============================] - 3s 4ms/step - loss: 22.0333 - val_loss: 21.7931\n",
      "Epoch 17/50\n",
      "832/832 [==============================] - 4s 4ms/step - loss: 22.0554 - val_loss: 21.9409\n",
      "Epoch 18/50\n",
      "832/832 [==============================] - 4s 5ms/step - loss: 21.9986 - val_loss: 21.9161\n",
      "Epoch 19/50\n",
      "832/832 [==============================] - 4s 4ms/step - loss: 21.9837 - val_loss: 21.6501\n",
      "Epoch 20/50\n",
      "832/832 [==============================] - 4s 5ms/step - loss: 21.8874 - val_loss: 21.8741\n",
      "Epoch 21/50\n",
      "832/832 [==============================] - 4s 5ms/step - loss: 21.8049 - val_loss: 21.3753\n",
      "Epoch 22/50\n",
      "832/832 [==============================] - 4s 4ms/step - loss: 21.6796 - val_loss: 21.3136\n",
      "Epoch 23/50\n",
      "832/832 [==============================] - 4s 4ms/step - loss: 21.5872 - val_loss: 21.2226\n",
      "Epoch 24/50\n",
      "832/832 [==============================] - 3s 3ms/step - loss: 21.4841 - val_loss: 21.3560\n",
      "Epoch 25/50\n",
      "832/832 [==============================] - 4s 4ms/step - loss: 21.4293 - val_loss: 21.2931\n",
      "Epoch 26/50\n",
      "832/832 [==============================] - 4s 5ms/step - loss: 21.3979 - val_loss: 21.3370\n",
      "Epoch 27/50\n",
      "832/832 [==============================] - 3s 4ms/step - loss: 21.2644 - val_loss: 20.9570\n",
      "Epoch 28/50\n",
      "832/832 [==============================] - 3s 4ms/step - loss: 21.1951 - val_loss: 20.9279\n",
      "Epoch 29/50\n",
      "832/832 [==============================] - 3s 4ms/step - loss: 21.1007 - val_loss: 20.8478\n",
      "Epoch 30/50\n",
      "832/832 [==============================] - 4s 5ms/step - loss: 21.0899 - val_loss: 20.8546\n",
      "Epoch 31/50\n",
      "832/832 [==============================] - 4s 5ms/step - loss: 21.0761 - val_loss: 20.7710\n",
      "Epoch 32/50\n",
      "832/832 [==============================] - 4s 4ms/step - loss: 20.9917 - val_loss: 20.6999\n",
      "Epoch 33/50\n",
      "832/832 [==============================] - 3s 4ms/step - loss: 20.9158 - val_loss: 20.6168\n",
      "Epoch 34/50\n",
      "832/832 [==============================] - 4s 5ms/step - loss: 20.8612 - val_loss: 20.6180\n",
      "Epoch 35/50\n",
      "832/832 [==============================] - 4s 5ms/step - loss: 20.7368 - val_loss: 20.4586\n",
      "Epoch 36/50\n",
      "832/832 [==============================] - 4s 5ms/step - loss: 20.6751 - val_loss: 20.3735\n",
      "Epoch 37/50\n",
      "832/832 [==============================] - 3s 4ms/step - loss: 20.5995 - val_loss: 20.3670\n",
      "Epoch 38/50\n",
      "832/832 [==============================] - 4s 4ms/step - loss: 20.5045 - val_loss: 20.2792\n",
      "Epoch 39/50\n",
      "832/832 [==============================] - 4s 5ms/step - loss: 20.4362 - val_loss: 20.1175\n",
      "Epoch 40/50\n",
      "832/832 [==============================] - 4s 5ms/step - loss: 20.3679 - val_loss: 20.1443\n",
      "Epoch 41/50\n",
      "832/832 [==============================] - 4s 4ms/step - loss: 20.2093 - val_loss: 19.8808\n",
      "Epoch 42/50\n",
      "832/832 [==============================] - 4s 4ms/step - loss: 20.1243 - val_loss: 19.8403\n",
      "Epoch 43/50\n",
      "832/832 [==============================] - 4s 5ms/step - loss: 20.0110 - val_loss: 19.8912\n",
      "Epoch 44/50\n",
      "832/832 [==============================] - 4s 5ms/step - loss: 19.9579 - val_loss: 19.6354\n",
      "Epoch 45/50\n",
      "832/832 [==============================] - 4s 4ms/step - loss: 19.8347 - val_loss: 19.7232\n",
      "Epoch 46/50\n",
      "832/832 [==============================] - 3s 3ms/step - loss: 19.7174 - val_loss: 19.4141\n",
      "Epoch 47/50\n",
      "832/832 [==============================] - 4s 4ms/step - loss: 19.6220 - val_loss: 19.4263\n",
      "Epoch 48/50\n",
      "832/832 [==============================] - 4s 5ms/step - loss: 19.5879 - val_loss: 19.3249\n",
      "Epoch 49/50\n",
      "832/832 [==============================] - 4s 5ms/step - loss: 19.4838 - val_loss: 19.4073\n",
      "Epoch 50/50\n",
      "832/832 [==============================] - 4s 4ms/step - loss: 19.4316 - val_loss: 19.3060\n"
     ]
    },
    {
     "data": {
      "text/plain": [
       "<keras.callbacks.History at 0x1528b0afdc0>"
      ]
     },
     "execution_count": 98,
     "metadata": {},
     "output_type": "execute_result"
    }
   ],
   "source": [
    "# Train the model\n",
    "model.fit(x_train_scaled, y_train, epochs=50, batch_size=64, validation_data=(x_test_scaled, y_test))"
   ]
  },
  {
   "cell_type": "code",
   "execution_count": 99,
   "id": "3e76e75b",
   "metadata": {},
   "outputs": [
    {
     "data": {
      "text/plain": [
       "<AxesSubplot:>"
      ]
     },
     "execution_count": 99,
     "metadata": {},
     "output_type": "execute_result"
    },
    {
     "data": {
      "image/png": "[encoded data removed]",
      "text/plain": [
       "<Figure size 432x288 with 1 Axes>"
      ]
     },
     "metadata": {
      "needs_background": "light"
     },
     "output_type": "display_data"
    }
   ],
   "source": [
    "model_losses = pd.DataFrame(model.history.history)\n",
    "model_losses.plot()"
   ]
  },
  {
   "cell_type": "code",
   "execution_count": 100,
   "id": "e5745f18",
   "metadata": {},
   "outputs": [
    {
     "data": {
      "text/plain": [
       "19.79874752072278"
      ]
     },
     "execution_count": 100,
     "metadata": {},
     "output_type": "execute_result"
    }
   ],
   "source": [
    "predictions = model.predict(x_test_scaled)\n",
    " \n",
    "from sklearn.metrics import mean_absolute_error,mean_squared_error\n",
    "mean_absolute_error(y_test,predictions)"
   ]
  },
  {
   "cell_type": "code",
   "execution_count": 101,
   "id": "000b36c9",
   "metadata": {},
   "outputs": [],
   "source": [
    "import ipywidgets as widgets\n",
    "from IPython.display import display, clear_output\n",
    "\n",
    "import warnings\n",
    "warnings.filterwarnings(\"ignore\")\n",
    "\n",
    "venue = widgets.Dropdown(options=df['venue'].unique().tolist(),description='Select Venue:')\n",
    "batting_team = widgets.Dropdown(options =df['bat_team'].unique().tolist(), description='Select Batting Team:')\n",
    "bowling_team = widgets.Dropdown(options=df['bowl_team'].unique().tolist(), description='Select Batting Team:')\n",
    "striker = widgets.Dropdown(options=df['batsman'].unique().tolist(), description='Select Striker:')\n",
    "bowler = widgets.Dropdown(options=df['bowler'].unique().tolist(), description='Select Bowler:')\n",
    "\n",
    "predict_button = widgets.Button(description=\"Predict Score\")\n",
    "\n",
    "def predict_score(b):\n",
    "\twith output:\n",
    "\t\tclear_output() # Clear the previous output\n",
    "\t\t\n",
    "\n",
    "\t\t# Decode the encoded values back to their original values\n",
    "\t\tdecoded_venue = venue_label.transform([venue.value])\n",
    "\t\tdecoded_batting_team = bat_team_label.transform([batting_team.value])\n",
    "\t\tdecoded_bowling_team = bowl_team_label.transform([bowling_team.value])\n",
    "\t\tdecoded_striker = batsmen_label.transform([striker.value])\n",
    "\t\tdecoded_bowler = bowler_label.transform([bowler.value])\n",
    "\n",
    "\n",
    "\t\tinput = np.array([decoded_venue, decoded_batting_team, decoded_bowling_team,decoded_striker, decoded_bowler])\n",
    "\t\tinput = input.reshape(1,5)\n",
    "\t\tinput = scaler.transform(input)\n",
    "\t\t#print(input)\n",
    "\t\tpredicted_score = model.predict(input)\n",
    "\t\tpredicted_score = int(predicted_score[0,0])\n",
    "\n",
    "\t\tprint(predicted_score)\n"
   ]
  },
  {
   "cell_type": "code",
   "execution_count": 102,
   "id": "45158223",
   "metadata": {},
   "outputs": [
    {
     "data": {
      "application/vnd.jupyter.widget-view+json": {
       "model_id": "962a4a4818534b0fa42867b23a76bf49",
       "version_major": 2,
       "version_minor": 0
      },
      "text/plain": [
       "Dropdown(description='Select Venue:', options=('M Chinnaswamy Stadium', 'Punjab Cricket Association Stadium, M…"
      ]
     },
     "metadata": {},
     "output_type": "display_data"
    },
    {
     "data": {
      "application/vnd.jupyter.widget-view+json": {
       "model_id": "40fa30a7d50d472789457d22083422b6",
       "version_major": 2,
       "version_minor": 0
      },
      "text/plain": [
       "Dropdown(description='Select Batting Team:', options=('Kolkata Knight Riders', 'Chennai Super Kings', 'Rajasth…"
      ]
     },
     "metadata": {},
     "output_type": "display_data"
    },
    {
     "data": {
      "application/vnd.jupyter.widget-view+json": {
       "model_id": "83ded11f398b4108b5afe6d8b55f4dc3",
       "version_major": 2,
       "version_minor": 0
      },
      "text/plain": [
       "Dropdown(description='Select Batting Team:', options=('Royal Challengers Bangalore', 'Kings XI Punjab', 'Delhi…"
      ]
     },
     "metadata": {},
     "output_type": "display_data"
    },
    {
     "data": {
      "application/vnd.jupyter.widget-view+json": {
       "model_id": "188a3388c3a24b00a838f8ce1bc7abaa",
       "version_major": 2,
       "version_minor": 0
      },
      "text/plain": [
       "Dropdown(description='Select Striker:', options=('SC Ganguly', 'BB McCullum', 'RT Ponting', 'DJ Hussey', 'Moha…"
      ]
     },
     "metadata": {},
     "output_type": "display_data"
    },
    {
     "data": {
      "application/vnd.jupyter.widget-view+json": {
       "model_id": "4b84dba0919d4d10917450809ca9f530",
       "version_major": 2,
       "version_minor": 0
      },
      "text/plain": [
       "Dropdown(description='Select Bowler:', options=('P Kumar', 'Z Khan', 'AA Noffke', 'JH Kallis', 'SB Joshi', 'CL…"
      ]
     },
     "metadata": {},
     "output_type": "display_data"
    },
    {
     "data": {
      "application/vnd.jupyter.widget-view+json": {
       "model_id": "b4f8df1a2b5b4e74a027ae9626675653",
       "version_major": 2,
       "version_minor": 0
      },
      "text/plain": [
       "Button(description='Predict Score', style=ButtonStyle())"
      ]
     },
     "metadata": {},
     "output_type": "display_data"
    },
    {
     "data": {
      "application/vnd.jupyter.widget-view+json": {
       "model_id": "3aa3ca2e8abe40379503f1a06137e18c",
       "version_major": 2,
       "version_minor": 0
      },
      "text/plain": [
       "Output()"
      ]
     },
     "metadata": {},
     "output_type": "display_data"
    }
   ],
   "source": [
    "predict_button.on_click(predict_score)\n",
    "output = widgets.Output()\n",
    "display(venue, batting_team, bowling_team, striker, bowler, predict_button, output)\n"
   ]
  },
  {
   "cell_type": "code",
   "execution_count": null,
   "id": "9d2a7382",
   "metadata": {},
   "outputs": [],
   "source": []
  }
 ],
 "metadata": {
  "kernelspec": {
   "display_name": "Python 3 (ipykernel)",
   "language": "python",
   "name": "python3"
  },
  "language_info": {
   "codemirror_mode": {
    "name": "ipython",
    "version": 3
   },
   "file_extension": ".py",
   "mimetype": "text/x-python",
   "name": "python",
   "nbconvert_exporter": "python",
   "pygments_lexer": "ipython3",
   "version": "3.9.12"
  }
 },
 "nbformat": 4,
 "nbformat_minor": 5
}
